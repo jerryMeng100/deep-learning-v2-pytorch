{
 "cells": [
  {
   "cell_type": "markdown",
   "metadata": {},
   "source": [
    "# Neural networks with PyTorch\n",
    "\n",
    "Deep learning networks tend to be massive with dozens or hundreds of layers, that's where the term \"deep\" comes from. You can build one of these deep networks using only weight matrices as we did in the previous notebook, but in general it's very cumbersome and difficult to implement. PyTorch has a nice module `nn` that provides a nice way to efficiently build large neural networks."
   ]
  },
  {
   "cell_type": "code",
   "execution_count": 1,
   "metadata": {
    "collapsed": true
   },
   "outputs": [
    {
     "name": "stderr",
     "output_type": "stream",
     "text": [
      "Matplotlib is building the font cache; this may take a moment.\n"
     ]
    }
   ],
   "source": [
    "# Import necessary packages\n",
    "\n",
    "%matplotlib inline\n",
    "%config InlineBackend.figure_format = 'retina'\n",
    "\n",
    "import numpy as np\n",
    "import torch\n",
    "\n",
    "import helper\n",
    "import matplotlib.pyplot as plt"
   ]
  },
  {
   "cell_type": "markdown",
   "metadata": {},
   "source": [
    "\n",
    "Now we're going to build a larger network that can solve a (formerly) difficult problem, identifying text in an image. Here we'll use the MNIST dataset which consists of greyscale handwritten digits. Each image is 28x28 pixels, you can see a sample below\n",
    "\n",
    "<img src='assets/mnist.png'>\n",
    "\n",
    "Our goal is to build a neural network that can take one of these images and predict the digit in the image.\n",
    "\n",
    "First up, we need to get our dataset. This is provided through the `torchvision` package. The code below will download the MNIST dataset, then create training and test datasets for us. Don't worry too much about the details here, you'll learn more about this later."
   ]
  },
  {
   "cell_type": "code",
   "execution_count": 2,
   "metadata": {},
   "outputs": [],
   "source": [
    "# The MNIST datasets are hosted on yann.lecun.com that has moved under CloudFlare protection\n",
    "# Run this script to enable the datasets download\n",
    "# Reference: https://github.com/pytorch/vision/issues/1938\n",
    "\n",
    "from six.moves import urllib\n",
    "opener = urllib.request.build_opener()\n",
    "opener.addheaders = [('User-agent', 'Mozilla/5.0')]\n",
    "urllib.request.install_opener(opener)"
   ]
  },
  {
   "cell_type": "code",
   "execution_count": 3,
   "metadata": {
    "collapsed": true
   },
   "outputs": [
    {
     "name": "stderr",
     "output_type": "stream",
     "text": [
      "1.3%"
     ]
    },
    {
     "name": "stdout",
     "output_type": "stream",
     "text": [
      "Downloading http://yann.lecun.com/exdb/mnist/train-images-idx3-ubyte.gz\n",
      "Downloading http://yann.lecun.com/exdb/mnist/train-images-idx3-ubyte.gz to /home/azureuser/.pytorch/MNIST_data/MNIST/raw/train-images-idx3-ubyte.gz\n"
     ]
    },
    {
     "name": "stderr",
     "output_type": "stream",
     "text": [
      "100.0%\n"
     ]
    },
    {
     "name": "stdout",
     "output_type": "stream",
     "text": [
      "Extracting /home/azureuser/.pytorch/MNIST_data/MNIST/raw/train-images-idx3-ubyte.gz to /home/azureuser/.pytorch/MNIST_data/MNIST/raw\n"
     ]
    },
    {
     "name": "stderr",
     "output_type": "stream",
     "text": [
      "100.0%"
     ]
    },
    {
     "name": "stdout",
     "output_type": "stream",
     "text": [
      "\n",
      "Downloading http://yann.lecun.com/exdb/mnist/train-labels-idx1-ubyte.gz\n",
      "Downloading http://yann.lecun.com/exdb/mnist/train-labels-idx1-ubyte.gz to /home/azureuser/.pytorch/MNIST_data/MNIST/raw/train-labels-idx1-ubyte.gz\n",
      "Extracting /home/azureuser/.pytorch/MNIST_data/MNIST/raw/train-labels-idx1-ubyte.gz to /home/azureuser/.pytorch/MNIST_data/MNIST/raw\n",
      "\n",
      "Downloading http://yann.lecun.com/exdb/mnist/t10k-images-idx3-ubyte.gz\n",
      "Downloading http://yann.lecun.com/exdb/mnist/t10k-images-idx3-ubyte.gz to /home/azureuser/.pytorch/MNIST_data/MNIST/raw/t10k-images-idx3-ubyte.gz\n"
     ]
    },
    {
     "name": "stderr",
     "output_type": "stream",
     "text": [
      "\n",
      "100.0%\n",
      "100.0%\n"
     ]
    },
    {
     "name": "stdout",
     "output_type": "stream",
     "text": [
      "Extracting /home/azureuser/.pytorch/MNIST_data/MNIST/raw/t10k-images-idx3-ubyte.gz to /home/azureuser/.pytorch/MNIST_data/MNIST/raw\n",
      "\n",
      "Downloading http://yann.lecun.com/exdb/mnist/t10k-labels-idx1-ubyte.gz\n",
      "Downloading http://yann.lecun.com/exdb/mnist/t10k-labels-idx1-ubyte.gz to /home/azureuser/.pytorch/MNIST_data/MNIST/raw/t10k-labels-idx1-ubyte.gz\n",
      "Extracting /home/azureuser/.pytorch/MNIST_data/MNIST/raw/t10k-labels-idx1-ubyte.gz to /home/azureuser/.pytorch/MNIST_data/MNIST/raw\n",
      "\n"
     ]
    }
   ],
   "source": [
    "### Run this cell\n",
    "\n",
    "from torchvision import datasets, transforms\n",
    "\n",
    "# Define a transform to normalize the data\n",
    "transform = transforms.Compose([transforms.ToTensor(),\n",
    "                              transforms.Normalize((0.5,), (0.5,)),\n",
    "                              ])\n",
    "\n",
    "# Download and load the training data\n",
    "trainset = datasets.MNIST('~/.pytorch/MNIST_data/', download=True, train=True, transform=transform)\n",
    "trainloader = torch.utils.data.DataLoader(trainset, batch_size=64, shuffle=True)"
   ]
  },
  {
   "cell_type": "markdown",
   "metadata": {},
   "source": [
    "We have the training data loaded into `trainloader` and we make that an iterator with `iter(trainloader)`. Later, we'll use this to loop through the dataset for training, like\n",
    "\n",
    "```python\n",
    "for image, label in trainloader:\n",
    "    ## do things with images and labels\n",
    "```\n",
    "\n",
    "You'll notice I created the `trainloader` with a batch size of 64, and `shuffle=True`. The batch size is the number of images we get in one iteration from the data loader and pass through our network, often called a *batch*. And `shuffle=True` tells it to shuffle the dataset every time we start going through the data loader again. But here I'm just grabbing the first batch so we can check out the data. We can see below that `images` is just a tensor with size `(64, 1, 28, 28)`. So, 64 images per batch, 1 color channel, and 28x28 images."
   ]
  },
  {
   "cell_type": "code",
   "execution_count": 4,
   "metadata": {
    "collapsed": true
   },
   "outputs": [
    {
     "name": "stdout",
     "output_type": "stream",
     "text": [
      "<class 'torch.Tensor'>\n",
      "torch.Size([64, 1, 28, 28])\n",
      "torch.Size([64])\n"
     ]
    }
   ],
   "source": [
    "dataiter = iter(trainloader)\n",
    "images, labels = next(dataiter)\n",
    "print(type(images))\n",
    "print(images.shape)\n",
    "print(labels.shape)"
   ]
  },
  {
   "cell_type": "markdown",
   "metadata": {},
   "source": [
    "This is what one of the images looks like. "
   ]
  },
  {
   "cell_type": "code",
   "execution_count": 5,
   "metadata": {
    "collapsed": true
   },
   "outputs": [
    {
     "data": {
      "image/png": "[encoded data removed]",
      "text/plain": [
       "<Figure size 640x480 with 1 Axes>"
      ]
     },
     "metadata": {
      "image/png": {
       "height": 413,
       "width": 416
      }
     },
     "output_type": "display_data"
    }
   ],
   "source": [
    "plt.imshow(images[1].numpy().squeeze(), cmap='Greys_r');"
   ]
  },
  {
   "cell_type": "markdown",
   "metadata": {},
   "source": [
    "First, let's try to build a simple network for this dataset using weight matrices and matrix multiplications. Then, we'll see how to do it using PyTorch's `nn` module which provides a much more convenient and powerful method for defining network architectures.\n",
    "\n",
    "The networks you've seen so far are called *fully-connected* or *dense* networks. Each unit in one layer is connected to each unit in the next layer. In fully-connected networks, the input to each layer must be a one-dimensional vector (which can be stacked into a 2D tensor as a batch of multiple examples). However, our images are 28x28 2D tensors, so we need to convert them into 1D vectors. Thinking about sizes, we need to convert the batch of images with shape `(64, 1, 28, 28)` to a have a shape of `(64, 784)`, 784 is 28 times 28. This is typically called *flattening*, we flattened the 2D images into 1D vectors.\n",
    "\n",
    "Previously you built a network with one output unit. Here we need 10 output units, one for each digit. We want our network to predict the digit shown in an image, so what we'll do is calculate probabilities that the image is of any one digit or class. This ends up being a discrete probability distribution over the classes (digits) that tells us the most likely class for the image. That means we need 10 output units for the 10 classes (digits). We'll see how to convert the network output into a probability distribution next.\n",
    "\n",
    "> **Exercise:** Flatten the batch of images `images`. Then build a multi-layer network with 784 input units, 256 hidden units, and 10 output units using random tensors for the weights and biases. For now, use a sigmoid activation for the hidden layer. Leave the output layer without an activation, we'll add one that gives us a probability distribution next."
   ]
  },
  {
   "cell_type": "code",
   "execution_count": 16,
   "metadata": {
    "collapsed": true
   },
   "outputs": [
    {
     "name": "stdout",
     "output_type": "stream",
     "text": [
      "tensor([[9.9683e-01, 8.3994e-05, 9.9751e-01, 7.1243e-01, 9.6719e-02, 9.9996e-01,\n",
      "         3.9146e-04, 2.5816e-04, 9.9999e-01, 5.9873e-02],\n",
      "        [9.9951e-01, 3.2381e-04, 9.9975e-01, 1.2855e-03, 5.5324e-03, 9.6538e-01,\n",
      "         5.8056e-05, 4.4505e-05, 9.3425e-01, 9.0290e-04],\n",
      "        [1.5347e-02, 8.2365e-07, 3.4546e-01, 2.6861e-06, 9.6162e-04, 1.0000e+00,\n",
      "         3.1174e-06, 7.4516e-01, 3.1278e-01, 4.8024e-03],\n",
      "        [7.2920e-01, 5.6277e-06, 3.0299e-01, 8.1371e-01, 6.8445e-05, 4.9543e-01,\n",
      "         2.3785e-02, 9.7297e-01, 9.9983e-01, 2.6204e-05],\n",
      "        [9.9970e-01, 9.9968e-01, 9.9100e-01, 4.4508e-03, 9.3664e-01, 9.9798e-01,\n",
      "         9.9701e-01, 1.8763e-05, 2.5971e-01, 1.1250e-03],\n",
      "        [4.1433e-03, 7.9406e-02, 5.0628e-02, 9.1077e-01, 1.4487e-02, 9.9831e-01,\n",
      "         1.6456e-04, 4.8408e-02, 9.9938e-01, 3.9417e-04],\n",
      "        [9.9613e-01, 1.9591e-01, 9.2115e-01, 4.6713e-04, 9.9916e-01, 1.0000e+00,\n",
      "         6.6146e-01, 6.6814e-08, 1.1336e-03, 9.9801e-01],\n",
      "        [1.5462e-01, 3.8963e-06, 1.8947e-05, 1.3039e-02, 9.9300e-01, 9.9997e-01,\n",
      "         2.7560e-03, 2.3239e-01, 9.9274e-01, 1.5221e-05],\n",
      "        [1.5129e-05, 2.1251e-02, 6.8790e-04, 4.4770e-02, 8.9938e-03, 9.9998e-01,\n",
      "         3.4923e-01, 3.4355e-01, 6.3298e-01, 3.4881e-05],\n",
      "        [3.2860e-02, 4.2521e-01, 2.5926e-02, 3.0573e-03, 1.4665e-01, 9.9886e-01,\n",
      "         5.3093e-01, 1.0156e-03, 2.3424e-03, 1.5808e-06],\n",
      "        [3.4287e-01, 4.8452e-03, 9.9996e-01, 1.5215e-05, 3.2573e-03, 9.1906e-01,\n",
      "         6.2301e-02, 1.1902e-01, 9.7862e-01, 8.4699e-03],\n",
      "        [9.7571e-01, 5.4762e-01, 9.7124e-01, 3.8355e-05, 8.7561e-03, 1.0000e+00,\n",
      "         3.9085e-03, 9.8983e-01, 9.9811e-01, 9.7966e-10],\n",
      "        [7.1312e-04, 2.2975e-08, 8.3992e-01, 3.4393e-04, 7.8852e-01, 9.9743e-01,\n",
      "         2.0113e-01, 2.4689e-01, 9.8391e-01, 3.2463e-08],\n",
      "        [9.9303e-01, 3.9503e-03, 9.9755e-01, 9.6939e-01, 9.0634e-03, 8.2326e-01,\n",
      "         7.9255e-05, 1.0824e-04, 9.9995e-01, 3.8839e-04],\n",
      "        [1.0431e-01, 2.0188e-04, 3.1471e-01, 4.5189e-03, 1.1519e-04, 9.9906e-01,\n",
      "         1.2991e-05, 2.0717e-02, 9.9999e-01, 4.9152e-05],\n",
      "        [8.5201e-03, 8.2890e-05, 9.9561e-01, 1.9669e-01, 6.0510e-03, 9.9979e-01,\n",
      "         5.4483e-07, 1.9483e-06, 3.3154e-01, 4.2154e-04],\n",
      "        [2.1463e-02, 1.3779e-04, 4.7151e-02, 9.3465e-01, 3.8472e-03, 9.9944e-01,\n",
      "         5.8820e-04, 3.4808e-04, 9.9963e-01, 8.4842e-04],\n",
      "        [9.8784e-01, 8.4319e-04, 7.9577e-01, 3.1421e-01, 3.2175e-04, 7.4482e-01,\n",
      "         2.1632e-03, 6.8342e-01, 9.9994e-01, 6.1988e-05],\n",
      "        [8.4292e-03, 7.9962e-03, 9.8929e-01, 3.6350e-02, 7.2709e-01, 9.9977e-01,\n",
      "         7.4137e-05, 8.3493e-08, 9.9947e-01, 1.4209e-05],\n",
      "        [9.9997e-01, 2.3421e-03, 5.9699e-01, 9.5841e-01, 4.5191e-01, 1.0000e+00,\n",
      "         5.0410e-04, 1.2023e-03, 9.9851e-01, 6.8434e-03],\n",
      "        [9.5129e-06, 3.7135e-02, 1.3124e-01, 1.2934e-06, 6.2449e-02, 1.0000e+00,\n",
      "         3.7001e-05, 7.5270e-01, 9.8804e-01, 1.6961e-04],\n",
      "        [1.0172e-02, 3.8814e-03, 9.9311e-01, 6.6994e-06, 1.7713e-06, 9.9896e-01,\n",
      "         2.5605e-03, 7.1971e-03, 9.7794e-01, 2.1616e-04],\n",
      "        [8.6700e-04, 1.0935e-05, 8.2431e-01, 3.9038e-03, 3.7733e-02, 9.9911e-01,\n",
      "         2.3067e-02, 1.1941e-06, 5.4141e-03, 1.0046e-01],\n",
      "        [7.1127e-01, 4.7881e-01, 2.8535e-02, 9.4401e-01, 8.7597e-04, 9.9999e-01,\n",
      "         7.5684e-01, 6.1167e-03, 7.4782e-01, 2.8676e-04],\n",
      "        [8.6406e-01, 8.4689e-01, 7.8864e-01, 5.7702e-01, 5.3184e-01, 1.0000e+00,\n",
      "         2.8639e-05, 8.3465e-05, 9.9146e-01, 6.6235e-05],\n",
      "        [6.5141e-01, 2.8472e-05, 4.4482e-01, 3.7545e-03, 2.5726e-03, 8.3224e-01,\n",
      "         2.4307e-03, 1.6086e-02, 3.8069e-01, 7.2126e-02],\n",
      "        [9.6378e-01, 1.2086e-06, 1.1449e-02, 2.5417e-03, 6.6621e-02, 9.9985e-01,\n",
      "         5.0530e-03, 1.4174e-03, 2.6093e-01, 1.5088e-02],\n",
      "        [7.3883e-02, 1.7707e-03, 1.1809e-03, 1.1494e-04, 9.3880e-01, 9.9875e-01,\n",
      "         4.2837e-01, 4.8096e-03, 3.1850e-01, 1.1311e-06],\n",
      "        [1.7140e-03, 1.5139e-03, 9.8578e-01, 9.9758e-01, 7.1721e-02, 9.8047e-01,\n",
      "         1.3840e-02, 6.5954e-03, 5.0968e-01, 5.6529e-07],\n",
      "        [3.2694e-02, 2.4031e-07, 9.7612e-01, 8.7792e-01, 3.7171e-02, 1.8014e-01,\n",
      "         1.7123e-02, 1.5893e-04, 9.1600e-01, 4.1793e-03],\n",
      "        [7.6724e-01, 5.2420e-01, 9.9994e-01, 9.9754e-01, 3.7412e-04, 9.9994e-01,\n",
      "         2.5232e-02, 5.6469e-03, 5.4284e-01, 6.8938e-06],\n",
      "        [9.9306e-01, 1.5201e-05, 3.5916e-01, 2.6473e-06, 9.8002e-04, 9.9958e-01,\n",
      "         9.2244e-01, 4.1168e-01, 8.8494e-01, 2.0781e-07],\n",
      "        [2.7783e-02, 1.6291e-03, 2.1887e-01, 6.4569e-02, 8.6866e-05, 7.3571e-01,\n",
      "         9.7221e-02, 5.6605e-02, 7.5275e-02, 5.0784e-06],\n",
      "        [9.8461e-01, 7.0597e-05, 9.5450e-01, 1.0237e-07, 9.9185e-01, 1.0000e+00,\n",
      "         5.1565e-02, 2.3052e-01, 1.7536e-01, 5.9292e-05],\n",
      "        [6.3422e-03, 1.3993e-02, 2.3930e-03, 4.7711e-04, 3.3963e-06, 9.9853e-01,\n",
      "         4.7185e-03, 1.8133e-01, 2.3738e-01, 2.0479e-02],\n",
      "        [9.8000e-01, 2.5191e-04, 9.9986e-01, 4.7366e-03, 4.7941e-04, 9.9913e-01,\n",
      "         1.5212e-06, 2.9269e-08, 9.9986e-01, 9.5515e-04],\n",
      "        [2.7428e-01, 1.6463e-05, 9.9837e-01, 9.3832e-01, 1.6049e-01, 1.0000e+00,\n",
      "         1.9324e-01, 2.9884e-04, 3.7429e-03, 1.4130e-04],\n",
      "        [4.7072e-01, 1.2446e-06, 9.8815e-01, 2.9156e-01, 8.5258e-04, 5.9001e-01,\n",
      "         1.2219e-03, 1.9092e-05, 1.1216e-03, 6.7492e-01],\n",
      "        [2.3308e-02, 6.4389e-02, 3.9076e-03, 2.3034e-03, 8.5271e-01, 1.0000e+00,\n",
      "         7.2124e-01, 2.7665e-05, 3.3063e-02, 5.0493e-05],\n",
      "        [9.1266e-01, 7.6557e-01, 9.9155e-01, 5.1168e-03, 9.0588e-01, 1.0000e+00,\n",
      "         1.1782e-01, 9.6922e-01, 9.5495e-01, 3.7715e-09],\n",
      "        [9.9886e-01, 7.5066e-01, 9.9996e-01, 2.1288e-02, 3.5071e-01, 9.9810e-01,\n",
      "         4.0300e-03, 5.2204e-10, 9.8198e-01, 5.7898e-09],\n",
      "        [5.6409e-01, 3.2627e-02, 1.8136e-01, 9.9979e-01, 1.3156e-02, 9.9581e-01,\n",
      "         1.5733e-04, 2.5648e-04, 9.8178e-01, 1.9211e-06],\n",
      "        [2.8064e-01, 7.7462e-04, 9.8378e-01, 4.5833e-04, 5.6285e-03, 9.9962e-01,\n",
      "         9.8831e-01, 1.3049e-05, 9.9998e-01, 4.9479e-07],\n",
      "        [8.7609e-02, 5.0151e-03, 9.1203e-01, 9.0957e-05, 3.3089e-05, 9.9913e-01,\n",
      "         4.4523e-03, 6.9999e-02, 9.9889e-01, 7.7763e-05],\n",
      "        [5.0396e-01, 3.3251e-01, 9.7469e-01, 1.3932e-04, 9.7845e-01, 9.9999e-01,\n",
      "         1.3589e-02, 3.1096e-01, 9.9357e-01, 5.2558e-06],\n",
      "        [3.3350e-02, 5.9034e-04, 1.7609e-02, 2.1787e-06, 9.9586e-01, 1.0000e+00,\n",
      "         7.7438e-02, 1.7703e-04, 9.9735e-01, 6.6126e-04],\n",
      "        [9.9428e-01, 2.3126e-04, 9.6661e-01, 8.6003e-01, 1.6265e-01, 9.9996e-01,\n",
      "         1.7894e-01, 7.5384e-01, 1.5991e-02, 4.9855e-06],\n",
      "        [9.9992e-01, 3.4638e-06, 9.7970e-01, 8.7122e-03, 6.1394e-03, 9.9994e-01,\n",
      "         2.7359e-05, 1.2382e-01, 9.6866e-01, 3.5164e-04],\n",
      "        [9.3806e-01, 1.2006e-07, 1.3739e-01, 2.7493e-04, 2.3469e-01, 9.9389e-01,\n",
      "         4.3043e-03, 2.6272e-01, 8.9240e-01, 7.8157e-02],\n",
      "        [1.8186e-03, 1.0648e-02, 6.3025e-02, 9.0285e-04, 5.1758e-02, 1.0000e+00,\n",
      "         2.6728e-01, 8.8388e-04, 8.7013e-01, 5.9836e-05],\n",
      "        [8.9040e-01, 4.9211e-05, 9.9678e-01, 9.9991e-01, 2.3030e-02, 9.9999e-01,\n",
      "         8.1064e-05, 1.3840e-03, 9.9977e-01, 2.4455e-03],\n",
      "        [1.6163e-02, 1.3411e-08, 4.7832e-01, 7.5541e-01, 3.6517e-01, 9.4338e-01,\n",
      "         1.6413e-03, 9.8546e-01, 9.9975e-01, 9.9645e-01],\n",
      "        [9.1484e-01, 6.2277e-04, 1.5154e-02, 9.7563e-01, 9.4627e-05, 9.9664e-01,\n",
      "         1.0316e-04, 2.7692e-01, 9.9999e-01, 2.7174e-05],\n",
      "        [6.0263e-02, 9.3169e-05, 1.1906e-01, 1.4613e-02, 7.7425e-01, 9.9995e-01,\n",
      "         7.2169e-01, 5.4856e-05, 1.8707e-03, 4.1171e-11],\n",
      "        [8.7613e-01, 1.3565e-04, 6.1255e-01, 9.8635e-01, 1.4281e-01, 1.0000e+00,\n",
      "         3.2629e-02, 1.7833e-04, 3.6041e-01, 9.8681e-07],\n",
      "        [6.2712e-01, 7.4322e-01, 4.3702e-01, 1.4933e-05, 3.2536e-01, 9.9798e-01,\n",
      "         8.9767e-01, 1.4774e-05, 1.1838e-03, 1.6432e-05],\n",
      "        [9.7917e-01, 5.7230e-01, 8.8406e-01, 2.8929e-06, 8.6958e-01, 9.9998e-01,\n",
      "         2.9705e-01, 1.2012e-04, 9.7538e-01, 2.0401e-05],\n",
      "        [9.8830e-01, 2.8018e-07, 9.5189e-01, 2.0885e-03, 1.9678e-01, 9.9810e-01,\n",
      "         3.1382e-04, 2.9935e-04, 1.9547e-04, 2.8690e-04],\n",
      "        [6.5722e-05, 4.6362e-04, 8.7058e-01, 3.1091e-01, 5.4982e-05, 7.7488e-01,\n",
      "         1.2103e-01, 2.1922e-03, 5.5478e-01, 7.8858e-02],\n",
      "        [1.9918e-02, 2.3959e-04, 9.9788e-01, 9.9601e-01, 9.9977e-01, 9.9997e-01,\n",
      "         5.4888e-03, 6.1037e-04, 9.6802e-01, 4.7460e-06],\n",
      "        [5.8188e-01, 6.0573e-04, 3.4354e-01, 1.0284e-03, 5.3218e-03, 9.9165e-01,\n",
      "         4.1117e-01, 2.4147e-04, 9.9989e-01, 1.6723e-07],\n",
      "        [9.9391e-01, 2.0308e-02, 9.9922e-01, 5.9686e-02, 6.1747e-02, 6.8005e-01,\n",
      "         9.9697e-01, 9.4707e-01, 9.9624e-01, 1.1450e-07],\n",
      "        [9.9801e-01, 1.2420e-01, 9.9992e-01, 1.5468e-02, 3.9329e-03, 9.9554e-01,\n",
      "         9.5446e-01, 3.6362e-02, 6.5544e-01, 1.2712e-03],\n",
      "        [9.9985e-01, 1.2242e-02, 9.9832e-01, 9.8476e-02, 8.8654e-01, 9.9982e-01,\n",
      "         9.8889e-01, 1.9483e-05, 7.2622e-01, 7.0610e-07]])\n"
     ]
    },
    {
     "name": "stderr",
     "output_type": "stream",
     "text": [
      "Bad pipe message: %s [b'\\x90\\xd5\\xf1{\\xcf\\xbf\\xf1\\xfc\\x13\\x1e\\x11,\\x86\\xff#|\\x89\\xb1 r\\xe7z\\xba\\xe2 Z\\xe2\\x0f\\xfe7mH\\xdcI\\x00\\xb0\\x895\\xe5\\xb4\\xd6\\xe2\\x01\\x12\\xa8ev\\x88\\x17\\x9ff\\x00\\x08\\x13\\x02\\x13\\x03\\x13\\x01\\x00\\xff\\x01\\x00\\x00\\x8f\\x00\\x00\\x00\\x0e\\x00\\x0c\\x00\\x00\\t127.0.0.1\\x00\\x0b\\x00\\x04\\x03\\x00\\x01\\x02\\x00\\n\\x00\\x0c\\x00\\n\\x00\\x1d\\x00\\x17\\x00\\x1e\\x00\\x19\\x00\\x18\\x00#\\x00\\x00\\x00\\x16\\x00\\x00\\x00\\x17\\x00\\x00\\x00\\r']\n",
      "Bad pipe message: %s [b'\\x87\\x90\\xb3TFG,\\x19\\x0b\\x17\\xa4\\x0b\\xcbF\\xc3\\x9f\\xcfa\\x00\\x00|\\xc0,\\xc00\\x00\\xa3\\x00\\x9f\\xcc\\xa9\\xcc\\xa8\\xcc\\xaa\\xc0\\xaf', b\"\\xc0\\xa3\\xc0\\x9f\\xc0]\\xc0a\\xc0W\\xc0S\\xc0+\\xc0/\\x00\\xa2\\x00\\x9e\\xc0\\xae\\xc0\\xac\\xc0\\xa2\\xc0\\x9e\\xc0\\\\\\xc0`\\xc0V\\xc0R\\xc0$\\xc0(\\x00k\\x00j\\xc0#\\xc0'\\x00g\\x00@\\xc0\\n\\xc0\\x14\\x009\\x008\\xc0\\t\\xc0\\x13\\x003\\x002\\x00\\x9d\\xc0\\xa1\\xc0\\x9d\\xc0Q\\x00\\x9c\\xc0\\xa0\\xc0\\x9c\\xc0P\\x00=\\x00<\\x005\\x00/\\x00\\x9a\\x00\\x99\\xc0\\x07\\xc0\\x11\\x00\\x96\\x00\\x05\\x00\\xff\\x01\\x00\\x00j\\x00\\x00\\x00\\x0e\\x00\\x0c\\x00\\x00\\t127.0.0.1\\x00\\x0b\\x00\\x04\\x03\\x00\\x01\\x02\\x00\\n\\x00\\x0c\\x00\\n\\x00\\x1d\\x00\\x17\\x00\\x1e\\x00\\x19\\x00\\x18\\x00#\\x00\\x00\\x00\\x16\\x00\\x00\\x00\\x17\\x00\\x00\\x00\\r\\x000\\x00.\\x04\\x03\\x05\\x03\\x06\\x03\\x08\\x07\\x08\\x08\\x08\\t\\x08\\n\\x08\\x0b\\x08\\x04\\x08\\x05\\x08\", b'\\x01\\x05\\x01\\x06\\x01']\n",
      "Bad pipe message: %s [b'\\x02\\x03', b'\\x02\\x01', b'\\x02\\x02']\n",
      "Bad pipe message: %s [b'\\x05\\x02\\x06']\n",
      "Bad pipe message: %s [b'\\x85\\xff\\xef\\x02w\\xa3\\xc6\\x0b\\x0ek\\x8a\\xef\\xfdz\\xbbr\\x8f\\x8c\\x00\\x00>\\xc0\\x14\\xc0\\n\\x009\\x008\\x007\\x006\\xc0\\x0f\\xc0\\x05\\x005\\xc0\\x13\\xc0\\t\\x003\\x002\\x001\\x000\\xc0\\x0e\\xc0\\x04\\x00/\\x00\\x9a\\x00\\x99\\x00\\x98\\x00\\x97\\x00\\x96\\x00\\x07\\xc0\\x11\\xc0\\x07\\xc0\\x0c\\xc0\\x02\\x00\\x05\\x00\\x04\\x00\\xff\\x02']\n",
      "Bad pipe message: %s [b'']\n",
      "Bad pipe message: %s [b\"\\xd9\\x8dv'\\xe8I\\xcay?\\x02b\\xcd(\\x95hD\\xeda\\x00\\x00>\\xc0\\x14\\xc0\\n\\x009\\x008\\x007\\x006\\xc0\\x0f\\xc0\\x05\\x005\\xc0\\x13\\xc0\\t\\x003\\x002\\x001\\x000\\xc0\\x0e\\xc0\\x04\\x00/\"]\n",
      "Bad pipe message: %s [b'[\\xee-\\xff\\xbd\\x7fzo\\xef6\\xa4\\xca\\xc7\\x07;\\xcf\\x9d\\xc8\\x00\\x00\\xa2\\xc0\\x14\\xc0\\n\\x009\\x008\\x007\\x006\\x00\\x88\\x00\\x87\\x00\\x86\\x00\\x85\\xc0\\x19\\x00:\\x00\\x89\\xc0\\x0f\\xc0\\x05\\x005\\x00\\x84\\xc0\\x13\\xc0\\t\\x003\\x002\\x001\\x000\\x00\\x9a\\x00\\x99\\x00\\x98\\x00\\x97\\x00E\\x00D\\x00C\\x00B\\xc0\\x18\\x004\\x00\\x9b\\x00F\\xc0\\x0e\\xc0\\x04\\x00/\\x00\\x96\\x00A\\x00\\x07\\xc0\\x11\\xc0\\x07\\xc0\\x16\\x00\\x18\\xc0\\x0c\\xc0\\x02\\x00\\x05\\x00\\x04\\xc0\\x12\\xc0\\x08\\x00\\x16\\x00\\x13\\x00\\x10\\x00\\r\\xc0\\x17\\x00\\x1b\\xc0\\r\\xc0\\x03\\x00\\n\\x00\\x15\\x00\\x12\\x00\\x0f\\x00\\x0c\\x00\\x1a\\x00\\t\\x00\\x14\\x00']\n",
      "Bad pipe message: %s [b'\\x19\\x00\\x08\\x00\\x06\\x00\\x17\\x00\\x03\\xc0\\x10\\xc0\\x06\\xc0\\x15\\xc0']\n",
      "Bad pipe message: %s [b'\\x01\\x00\\x02\\x00\\x01\\x00\\xff\\x02\\x01\\x00']\n",
      "Bad pipe message: %s [b'Z\\xf5\"\\xc7\\xf6']\n",
      "Bad pipe message: %s [b'm\\xad\\xf9\\xb3\\xa5\\xfe\"\\xe4\\x8f\\xe6@\\xcd\\xd9qv\\x053]\\x00\\x00\\xf4\\xc00\\xc0,\\xc0(\\xc0$\\xc0\\x14\\xc0\\n\\x00\\xa5\\x00\\xa3\\x00\\xa1\\x00\\x9f\\x00k\\x00j\\x00i\\x00h\\x009\\x008\\x007\\x006\\x00\\x88\\x00\\x87\\x00\\x86\\x00\\x85\\xc0\\x19\\x00\\xa7\\x00m\\x00:\\x00\\x89\\xc02\\xc0.\\xc0*\\xc0&\\xc0\\x0f\\xc0\\x05\\x00\\x9d\\x00=\\x005\\x00\\x84\\xc0/\\xc0+\\xc0\\'\\xc0#\\xc0\\x13\\xc0\\t\\x00\\xa4\\x00\\xa2\\x00\\xa0\\x00\\x9e\\x00g\\x00@\\x00?\\x00>\\x003\\x002\\x00', b'0\\x00\\x9a\\x00\\x99\\x00\\x98\\x00\\x97\\x00E\\x00D\\x00C\\x00B\\xc0\\x18\\x00\\xa6\\x00l\\x004\\x00\\x9b\\x00F\\xc01\\xc0-\\xc0)\\xc0%\\xc0\\x0e\\xc0\\x04\\x00\\x9c\\x00<\\x00/\\x00']\n",
      "Bad pipe message: %s [b\"\\xca\\xb8\\xe6\\x08\\x1e\\xd0\\x8b_\\xc5\\xf7[\\x00\\x00\\x86\\xc00\\xc0,\\xc0(\\xc0$\\xc0\\x14\\xc0\\n\\x00\\xa5\\x00\\xa3\\x00\\xa1\\x00\\x9f\\x00k\\x00j\\x00i\\x00h\\x009\\x008\\x007\\x006\\xc02\\xc0.\\xc0*\\xc0&\\xc0\\x0f\\xc0\\x05\\x00\\x9d\\x00=\\x005\\xc0/\\xc0+\\xc0'\\xc0#\\xc0\\x13\\xc0\", b'\\xa4\\x00\\xa2\\x00\\xa0\\x00\\x9e\\x00']\n",
      "Bad pipe message: %s [b'A\\x00\\x07\\xc0\\x11\\xc0\\x07\\xc0\\x16\\x00\\x18\\xc0\\x0c\\xc0\\x02\\x00\\x05\\x00\\x04\\xc0\\x12\\xc0\\x08\\x00\\x16\\x00\\x13\\x00\\x10\\x00\\r\\xc0\\x17\\x00\\x1b\\xc0\\r\\xc0\\x03\\x00\\n\\x00\\x15\\x00\\x12\\x00\\x0f\\x00\\x0c\\x00\\x1a\\x00\\t\\x00\\x14\\x00\\x11\\x00\\x19\\x00\\x08\\x00\\x06\\x00\\x17\\x00\\x03\\xc0\\x10\\xc0\\x06\\xc0\\x15\\xc0\\x0b\\xc0\\x01\\x00;\\x00\\x02\\x00\\x01\\x00\\xff\\x02\\x01\\x00\\x00g\\x00\\x00\\x00\\x0e\\x00\\x0c\\x00\\x00\\t127.0.0.1\\x00\\x0b\\x00\\x04\\x03\\x00\\x01\\x02\\x00\\n\\x00\\x1c\\x00\\x1a\\x00\\x17\\x00\\x19\\x00\\x1c\\x00\\x1b\\x00\\x18\\x00\\x1a\\x00\\x16\\x00\\x0e\\x00\\r\\x00\\x0b\\x00\\x0c\\x00\\t\\x00\\n\\x00']\n",
      "Bad pipe message: %s [b'@\\x00?\\x00>\\x003\\x002\\x001\\x000\\xc01\\xc0-\\xc0)\\xc0%\\xc0\\x0e\\xc0\\x04\\x00\\x9c\\x00<\\x00/\\x00\\x9a\\x00\\x99\\x00\\x98\\x00\\x97\\x00\\x96\\x00\\x07\\xc0\\x11\\xc0\\x07\\xc0\\x0c\\xc0\\x02\\x00\\x05\\x00\\x04\\x00\\xff\\x02\\x01\\x00\\x00g\\x00\\x00\\x00\\x0e\\x00\\x0c\\x00\\x00\\t127.0.0.1\\x00\\x0b\\x00\\x04\\x03\\x00\\x01\\x02\\x00\\n\\x00\\x1c\\x00\\x1a\\x00\\x17\\x00\\x19\\x00\\x1c\\x00\\x1b']\n",
      "Bad pipe message: %s [b'\\x00\\x00\\r\\x00 \\x00\\x1e\\x06\\x01\\x06\\x02\\x06\\x03\\x05\\x01\\x05\\x02\\x05\\x03\\x04\\x01\\x04\\x02\\x04\\x03\\x03\\x01\\x03\\x02\\x03\\x03\\x02\\x01\\x02']\n",
      "Bad pipe message: %s [b'\\x03']\n"
     ]
    }
   ],
   "source": [
    "## Your solution\n",
    "torch.manual_seed(7)\n",
    "imagesFlattened = images.view(images.shape[0], -1)\n",
    "\n",
    "def activation(x):\n",
    "    return 1/(1+torch.exp(-x))\n",
    "\n",
    "n_batch = imagesFlattened.shape[0]\n",
    "n_input = imagesFlattened.shape[1]\n",
    "n_hidden = 256\n",
    "n_output = 10\n",
    "\n",
    "weights1 = torch.randn((n_input, n_hidden))\n",
    "biases1 = torch.randn((1, n_hidden))\n",
    "\n",
    "hidden1 = activation(torch.mm(imagesFlattened, weights1) + biases1)\n",
    "\n",
    "weights2 = torch.randn((n_hidden, n_output))\n",
    "biases2 = torch.randn((1, n_output))\n",
    "\n",
    "out = activation(torch.mm(hidden1, weights2) + biases2)\n",
    "\n",
    "print(out)\n",
    "\n",
    "\n",
    "\n",
    "###\n",
    "\n",
    "\n",
    "## Solution\n",
    "# def activation(x):\n",
    "#     return 1/(1+torch.exp(-x))\n",
    "\n",
    "# # Flatten the input images\n",
    "# inputs = images.view(images.shape[0], -1)\n",
    "\n",
    "# # Create parameters\n",
    "# w1 = torch.randn(784, 256)\n",
    "# b1 = torch.randn(256)\n",
    "\n",
    "# w2 = torch.randn(256, 10)\n",
    "# b2 = torch.randn(10)\n",
    "\n",
    "# h = activation(torch.mm(inputs, w1) + b1)\n",
    "\n",
    "# out = activation(torch.mm(h, w2) + b2)\n",
    "\n",
    "# print(out)\n",
    "\n",
    "#out = # output of your network, should have shape (64,10)"
   ]
  },
  {
   "cell_type": "markdown",
   "metadata": {},
   "source": [
    "Now we have 10 outputs for our network. We want to pass in an image to our network and get out a probability distribution over the classes that tells us the likely class(es) the image belongs to. Something that looks like this:\n",
    "<img src='assets/image_distribution.png' width=500px>\n",
    "\n",
    "Here we see that the probability for each class is roughly the same. This is representing an untrained network, it hasn't seen any data yet so it just returns a uniform distribution with equal probabilities for each class.\n",
    "\n",
    "To calculate this probability distribution, we often use the [**softmax** function](https://en.wikipedia.org/wiki/Softmax_function). Mathematically this looks like\n",
    "\n",
    "$$\n",
    "\\Large \\sigma(x_i) = \\cfrac{e^{x_i}}{\\sum_k^K{e^{x_k}}}\n",
    "$$\n",
    "\n",
    "What this does is squish each input $x_i$ between 0 and 1 and normalizes the values to give you a proper probability distribution where the probabilites sum up to one.\n",
    "\n",
    "> **Exercise:** Implement a function `softmax` that performs the softmax calculation and returns probability distributions for each example in the batch. Note that you'll need to pay attention to the shapes when doing this. If you have a tensor `a` with shape `(64, 10)` and a tensor `b` with shape `(64,)`, doing `a/b` will give you an error because PyTorch will try to do the division across the columns (called broadcasting) but you'll get a size mismatch. The way to think about this is for each of the 64 examples, you only want to divide by one value, the sum in the denominator. So you need `b` to have a shape of `(64, 1)`. This way PyTorch will divide the 10 values in each row of `a` by the one value in each row of `b`. Pay attention to how you take the sum as well. You'll need to define the `dim` keyword in `torch.sum`. Setting `dim=0` takes the sum across the rows while `dim=1` takes the sum across the columns."
   ]
  },
  {
   "cell_type": "code",
   "execution_count": 23,
   "metadata": {
    "collapsed": true
   },
   "outputs": [
    {
     "name": "stdout",
     "output_type": "stream",
     "text": [
      "torch.Size([64, 10])\n",
      "tensor([1.0000, 1.0000, 1.0000, 1.0000, 1.0000, 1.0000, 1.0000, 1.0000, 1.0000,\n",
      "        1.0000, 1.0000, 1.0000, 1.0000, 1.0000, 1.0000, 1.0000, 1.0000, 1.0000,\n",
      "        1.0000, 1.0000, 1.0000, 1.0000, 1.0000, 1.0000, 1.0000, 1.0000, 1.0000,\n",
      "        1.0000, 1.0000, 1.0000, 1.0000, 1.0000, 1.0000, 1.0000, 1.0000, 1.0000,\n",
      "        1.0000, 1.0000, 1.0000, 1.0000, 1.0000, 1.0000, 1.0000, 1.0000, 1.0000,\n",
      "        1.0000, 1.0000, 1.0000, 1.0000, 1.0000, 1.0000, 1.0000, 1.0000, 1.0000,\n",
      "        1.0000, 1.0000, 1.0000, 1.0000, 1.0000, 1.0000, 1.0000, 1.0000, 1.0000,\n",
      "        1.0000])\n",
      "tensor([0.1635, 0.0602, 0.1636, 0.0603, 0.0605, 0.1580, 0.0602, 0.0602, 0.1532,\n",
      "        0.0602])\n"
     ]
    }
   ],
   "source": [
    "def softmax(x):\n",
    "    #x is 64 x 10\n",
    "    exponentiated = torch.exp(x)\n",
    "    denominators = torch.sum(exponentiated, dim=1).view((-1, 1))\n",
    "    return torch.div(exponentiated, denominators)\n",
    "\n",
    "\n",
    "# Here, out should be the output of the network in the previous excercise with shape (64,10)\n",
    "probabilities = softmax(out)\n",
    "\n",
    "# Does it have the right shape? Should be (64, 10)\n",
    "print(probabilities.shape)\n",
    "# Does it sum to 1?\n",
    "print(probabilities.sum(dim=1))\n",
    "print(probabilities[1])"
   ]
  },
  {
   "cell_type": "markdown",
   "metadata": {},
   "source": [
    "## Building networks with PyTorch\n",
    "\n",
    "PyTorch provides a module `nn` that makes building networks much simpler. Here I'll show you how to build the same one as above with 784 inputs, 256 hidden units, 10 output units and a softmax output."
   ]
  },
  {
   "cell_type": "code",
   "execution_count": 24,
   "metadata": {
    "collapsed": true
   },
   "outputs": [],
   "source": [
    "from torch import nn"
   ]
  },
  {
   "cell_type": "code",
   "execution_count": 25,
   "metadata": {
    "collapsed": true
   },
   "outputs": [],
   "source": [
    "class Network(nn.Module):\n",
    "    def __init__(self):\n",
    "        super().__init__()\n",
    "        \n",
    "        # Inputs to hidden layer linear transformation\n",
    "        self.hidden = nn.Linear(784, 256)\n",
    "        # Output layer, 10 units - one for each digit\n",
    "        self.output = nn.Linear(256, 10)\n",
    "        \n",
    "        # Define sigmoid activation and softmax output \n",
    "        self.sigmoid = nn.Sigmoid()\n",
    "        self.softmax = nn.Softmax(dim=1)\n",
    "        \n",
    "    def forward(self, x):\n",
    "        # Pass the input tensor through each of our operations\n",
    "        x = self.hidden(x)\n",
    "        x = self.sigmoid(x)\n",
    "        x = self.output(x)\n",
    "        x = self.softmax(x)\n",
    "        \n",
    "        return x"
   ]
  },
  {
   "cell_type": "markdown",
   "metadata": {},
   "source": [
    "Let's go through this bit by bit.\n",
    "\n",
    "```python\n",
    "class Network(nn.Module):\n",
    "```\n",
    "\n",
    "Here we're inheriting from `nn.Module`. Combined with `super().__init__()` this creates a class that tracks the architecture and provides a lot of useful methods and attributes. It is mandatory to inherit from `nn.Module` when you're creating a class for your network. The name of the class itself can be anything.\n",
    "\n",
    "```python\n",
    "self.hidden = nn.Linear(784, 256)\n",
    "```\n",
    "\n",
    "This line creates a module for a linear transformation, $x\\mathbf{W} + b$, with 784 inputs and 256 outputs and assigns it to `self.hidden`. The module automatically creates the weight and bias tensors which we'll use in the `forward` method. You can access the weight and bias tensors once the network (`net`) is created with `net.hidden.weight` and `net.hidden.bias`.\n",
    "\n",
    "```python\n",
    "self.output = nn.Linear(256, 10)\n",
    "```\n",
    "\n",
    "Similarly, this creates another linear transformation with 256 inputs and 10 outputs.\n",
    "\n",
    "```python\n",
    "self.sigmoid = nn.Sigmoid()\n",
    "self.softmax = nn.Softmax(dim=1)\n",
    "```\n",
    "\n",
    "Here I defined operations for the sigmoid activation and softmax output. Setting `dim=1` in `nn.Softmax(dim=1)` calculates softmax across the columns.\n",
    "\n",
    "```python\n",
    "def forward(self, x):\n",
    "```\n",
    "\n",
    "PyTorch networks created with `nn.Module` must have a `forward` method defined. It takes in a tensor `x` and passes it through the operations you defined in the `__init__` method.\n",
    "\n",
    "```python\n",
    "x = self.hidden(x)\n",
    "x = self.sigmoid(x)\n",
    "x = self.output(x)\n",
    "x = self.softmax(x)\n",
    "```\n",
    "\n",
    "Here the input tensor `x` is passed through each operation and reassigned to `x`. We can see that the input tensor goes through the hidden layer, then a sigmoid function, then the output layer, and finally the softmax function. It doesn't matter what you name the variables here, as long as the inputs and outputs of the operations match the network architecture you want to build. The order in which you define things in the `__init__` method doesn't matter, but you'll need to sequence the operations correctly in the `forward` method.\n",
    "\n",
    "Now we can create a `Network` object."
   ]
  },
  {
   "cell_type": "code",
   "execution_count": 26,
   "metadata": {
    "collapsed": true
   },
   "outputs": [
    {
     "data": {
      "text/plain": [
       "Network(\n",
       "  (hidden): Linear(in_features=784, out_features=256, bias=True)\n",
       "  (output): Linear(in_features=256, out_features=10, bias=True)\n",
       "  (sigmoid): Sigmoid()\n",
       "  (softmax): Softmax(dim=1)\n",
       ")"
      ]
     },
     "execution_count": 26,
     "metadata": {},
     "output_type": "execute_result"
    }
   ],
   "source": [
    "# Create the network and look at it's text representation\n",
    "model = Network()\n",
    "model"
   ]
  },
  {
   "cell_type": "markdown",
   "metadata": {},
   "source": [
    "You can define the network somewhat more concisely and clearly using the `torch.nn.functional` module. This is the most common way you'll see networks defined as many operations are simple element-wise functions. We normally import this module as `F`, `import torch.nn.functional as F`."
   ]
  },
  {
   "cell_type": "code",
   "execution_count": 27,
   "metadata": {
    "collapsed": true
   },
   "outputs": [],
   "source": [
    "import torch.nn.functional as F\n",
    "\n",
    "class Network(nn.Module):\n",
    "    def __init__(self):\n",
    "        super().__init__()\n",
    "        # Inputs to hidden layer linear transformation\n",
    "        self.hidden = nn.Linear(784, 256)\n",
    "        # Output layer, 10 units - one for each digit\n",
    "        self.output = nn.Linear(256, 10)\n",
    "        \n",
    "    def forward(self, x):\n",
    "        # Hidden layer with sigmoid activation\n",
    "        x = F.sigmoid(self.hidden(x))\n",
    "        # Output layer with softmax activation\n",
    "        x = F.softmax(self.output(x), dim=1)\n",
    "        \n",
    "        return x"
   ]
  },
  {
   "cell_type": "markdown",
   "metadata": {},
   "source": [
    "### Activation functions\n",
    "\n",
    "So far we've only been looking at the sigmoid activation function, but in general any function can be used as an activation function. The only requirement is that for a network to approximate a non-linear function, the activation functions must be non-linear. Here are a few more examples of common activation functions: Tanh (hyperbolic tangent), and ReLU (rectified linear unit).\n",
    "\n",
    "<img src=\"assets/activation.png\" width=700px>\n",
    "\n",
    "In practice, the ReLU function is used almost exclusively as the activation function for hidden layers."
   ]
  },
  {
   "cell_type": "markdown",
   "metadata": {},
   "source": [
    "### Your Turn to Build a Network\n",
    "\n",
    "<img src=\"assets/mlp_mnist.png\" width=600px>\n",
    "\n",
    "> **Exercise:** Create a network with 784 input units, a hidden layer with 128 units and a ReLU activation, then a hidden layer with 64 units and a ReLU activation, and finally an output layer with a softmax activation as shown above. You can use a ReLU activation with the `nn.ReLU` module or `F.relu` function.\n",
    "\n",
    "It's good practice to name your layers by their type of network, for instance 'fc' to represent a fully-connected layer. As you code your solution, use `fc1`, `fc2`, and `fc3` as your layer names."
   ]
  },
  {
   "cell_type": "code",
   "execution_count": 32,
   "metadata": {
    "collapsed": true,
    "scrolled": true
   },
   "outputs": [],
   "source": [
    "## Your solution here\n",
    "import torch.nn.functional as F\n",
    "\n",
    "class Network(nn.Module):\n",
    "    def __init__(self):\n",
    "        super().__init__()\n",
    "        self.fc1 = nn.Linear(784, 128)\n",
    "        self.fc2 = nn.Linear(128, 64)\n",
    "        self.fc3 = nn.Linear(64, 10)\n",
    "        \n",
    "    def forward(self, x):\n",
    "        x = F.relu(self.fc1(x))\n",
    "        x = F.relu(self.fc2(x))\n",
    "\n",
    "        x = F.softmax(self.fc3(x), dim=1)\n",
    "        \n",
    "        return x\n",
    "\n",
    "model = Network()"
   ]
  },
  {
   "cell_type": "markdown",
   "metadata": {},
   "source": [
    "### Initializing weights and biases\n",
    "\n",
    "The weights and such are automatically initialized for you, but it's possible to customize how they are initialized. The weights and biases are tensors attached to the layer you defined, you can get them with `model.fc1.weight` for instance."
   ]
  },
  {
   "cell_type": "code",
   "execution_count": 33,
   "metadata": {
    "collapsed": true
   },
   "outputs": [
    {
     "name": "stdout",
     "output_type": "stream",
     "text": [
      "Parameter containing:\n",
      "tensor([[ 0.0019,  0.0005, -0.0266,  ...,  0.0021,  0.0257,  0.0180],\n",
      "        [-0.0291,  0.0194,  0.0033,  ..., -0.0058, -0.0152, -0.0074],\n",
      "        [-0.0255,  0.0141, -0.0173,  ..., -0.0066,  0.0269,  0.0035],\n",
      "        ...,\n",
      "        [-0.0114,  0.0222,  0.0197,  ...,  0.0243,  0.0304,  0.0111],\n",
      "        [-0.0090, -0.0345, -0.0355,  ..., -0.0130,  0.0239, -0.0339],\n",
      "        [ 0.0088,  0.0205,  0.0327,  ..., -0.0091,  0.0315,  0.0055]],\n",
      "       requires_grad=True)\n",
      "Parameter containing:\n",
      "tensor([-0.0006, -0.0100,  0.0276, -0.0134, -0.0039,  0.0245, -0.0207,  0.0039,\n",
      "        -0.0155,  0.0004,  0.0028, -0.0305,  0.0163,  0.0109, -0.0037,  0.0187,\n",
      "         0.0095,  0.0269, -0.0096, -0.0019, -0.0355,  0.0344,  0.0178, -0.0305,\n",
      "        -0.0307, -0.0113, -0.0355,  0.0336, -0.0058, -0.0032,  0.0309,  0.0017,\n",
      "         0.0203, -0.0101,  0.0036, -0.0251, -0.0256, -0.0087,  0.0092, -0.0355,\n",
      "         0.0127, -0.0146, -0.0254, -0.0126, -0.0269,  0.0212,  0.0112, -0.0237,\n",
      "         0.0278,  0.0016, -0.0003,  0.0029, -0.0072,  0.0156,  0.0173, -0.0053,\n",
      "         0.0148,  0.0055,  0.0167, -0.0079,  0.0071,  0.0239,  0.0309,  0.0081,\n",
      "         0.0260,  0.0178, -0.0177,  0.0286, -0.0192,  0.0316, -0.0331, -0.0061,\n",
      "        -0.0203, -0.0219,  0.0069, -0.0191,  0.0133, -0.0211,  0.0017,  0.0135,\n",
      "        -0.0236, -0.0094,  0.0270,  0.0357, -0.0104,  0.0139,  0.0025, -0.0290,\n",
      "         0.0053, -0.0285,  0.0193, -0.0171,  0.0198,  0.0064,  0.0045,  0.0033,\n",
      "        -0.0205, -0.0122,  0.0348, -0.0299, -0.0246,  0.0097, -0.0101, -0.0285,\n",
      "         0.0185,  0.0236,  0.0244, -0.0269, -0.0338, -0.0353,  0.0282,  0.0088,\n",
      "        -0.0025, -0.0083, -0.0050,  0.0320, -0.0272, -0.0181,  0.0189,  0.0148,\n",
      "        -0.0171, -0.0174, -0.0209, -0.0208, -0.0314, -0.0042, -0.0348, -0.0181],\n",
      "       requires_grad=True)\n"
     ]
    }
   ],
   "source": [
    "print(model.fc1.weight)\n",
    "print(model.fc1.bias)"
   ]
  },
  {
   "cell_type": "markdown",
   "metadata": {},
   "source": [
    "For custom initialization, we want to modify these tensors in place. These are actually autograd *Variables*, so we need to get back the actual tensors with `model.fc1.weight.data`. Once we have the tensors, we can fill them with zeros (for biases) or random normal values."
   ]
  },
  {
   "cell_type": "code",
   "execution_count": 34,
   "metadata": {
    "collapsed": true
   },
   "outputs": [
    {
     "data": {
      "text/plain": [
       "tensor([0., 0., 0., 0., 0., 0., 0., 0., 0., 0., 0., 0., 0., 0., 0., 0., 0., 0., 0., 0., 0., 0., 0., 0.,\n",
       "        0., 0., 0., 0., 0., 0., 0., 0., 0., 0., 0., 0., 0., 0., 0., 0., 0., 0., 0., 0., 0., 0., 0., 0.,\n",
       "        0., 0., 0., 0., 0., 0., 0., 0., 0., 0., 0., 0., 0., 0., 0., 0., 0., 0., 0., 0., 0., 0., 0., 0.,\n",
       "        0., 0., 0., 0., 0., 0., 0., 0., 0., 0., 0., 0., 0., 0., 0., 0., 0., 0., 0., 0., 0., 0., 0., 0.,\n",
       "        0., 0., 0., 0., 0., 0., 0., 0., 0., 0., 0., 0., 0., 0., 0., 0., 0., 0., 0., 0., 0., 0., 0., 0.,\n",
       "        0., 0., 0., 0., 0., 0., 0., 0.])"
      ]
     },
     "execution_count": 34,
     "metadata": {},
     "output_type": "execute_result"
    }
   ],
   "source": [
    "# Set biases to all zeros\n",
    "model.fc1.bias.data.fill_(0)"
   ]
  },
  {
   "cell_type": "code",
   "execution_count": 35,
   "metadata": {
    "collapsed": true
   },
   "outputs": [
    {
     "data": {
      "text/plain": [
       "tensor([[ 0.0013, -0.0097, -0.0107,  ...,  0.0088, -0.0066,  0.0040],\n",
       "        [-0.0093,  0.0021,  0.0107,  ...,  0.0003,  0.0007,  0.0027],\n",
       "        [ 0.0085, -0.0038,  0.0023,  ..., -0.0218, -0.0126,  0.0017],\n",
       "        ...,\n",
       "        [ 0.0034, -0.0230,  0.0046,  ...,  0.0049, -0.0056,  0.0109],\n",
       "        [-0.0020,  0.0027, -0.0104,  ...,  0.0089, -0.0030,  0.0080],\n",
       "        [ 0.0027,  0.0078, -0.0043,  ..., -0.0089,  0.0020,  0.0119]])"
      ]
     },
     "execution_count": 35,
     "metadata": {},
     "output_type": "execute_result"
    }
   ],
   "source": [
    "# sample from random normal with standard dev = 0.01\n",
    "model.fc1.weight.data.normal_(std=0.01)"
   ]
  },
  {
   "cell_type": "markdown",
   "metadata": {},
   "source": [
    "### Forward pass\n",
    "\n",
    "Now that we have a network, let's see what happens when we pass in an image."
   ]
  },
  {
   "cell_type": "code",
   "execution_count": 37,
   "metadata": {
    "collapsed": true
   },
   "outputs": [
    {
     "data": {
      "image/png": "[encoded data removed]",
      "text/plain": [
       "<Figure size 600x900 with 2 Axes>"
      ]
     },
     "metadata": {
      "image/png": {
       "height": 327,
       "width": 589
      }
     },
     "output_type": "display_data"
    }
   ],
   "source": [
    "# Grab some data \n",
    "dataiter = iter(trainloader)\n",
    "images, labels = next(dataiter)\n",
    "\n",
    "# Resize images into a 1D vector, new shape is (batch size, color channels, image pixels) \n",
    "images.resize_(64, 1, 784)\n",
    "# or images.resize_(images.shape[0], 1, 784) to automatically get batch size\n",
    "\n",
    "# Forward pass through the network\n",
    "img_idx = 0\n",
    "ps = model.forward(images[img_idx,:])\n",
    "\n",
    "img = images[img_idx]\n",
    "helper.view_classify(img.view(1, 28, 28), ps)"
   ]
  },
  {
   "cell_type": "markdown",
   "metadata": {},
   "source": [
    "As you can see above, our network has basically no idea what this digit is. It's because we haven't trained it yet, all the weights are random!\n",
    "\n",
    "### Using `nn.Sequential`\n",
    "\n",
    "PyTorch provides a convenient way to build networks like this where a tensor is passed sequentially through operations, `nn.Sequential` ([documentation](https://pytorch.org/docs/master/nn.html#torch.nn.Sequential)). Using this to build the equivalent network:"
   ]
  },
  {
   "cell_type": "code",
   "execution_count": 38,
   "metadata": {
    "collapsed": true
   },
   "outputs": [
    {
     "name": "stdout",
     "output_type": "stream",
     "text": [
      "Sequential(\n",
      "  (0): Linear(in_features=784, out_features=128, bias=True)\n",
      "  (1): ReLU()\n",
      "  (2): Linear(in_features=128, out_features=64, bias=True)\n",
      "  (3): ReLU()\n",
      "  (4): Linear(in_features=64, out_features=10, bias=True)\n",
      "  (5): Softmax(dim=1)\n",
      ")\n"
     ]
    },
    {
     "data": {
      "image/png": "[encoded data removed]",
      "text/plain": [
       "<Figure size 600x900 with 2 Axes>"
      ]
     },
     "metadata": {
      "image/png": {
       "height": 327,
       "width": 589
      }
     },
     "output_type": "display_data"
    }
   ],
   "source": [
    "# Hyperparameters for our network\n",
    "input_size = 784\n",
    "hidden_sizes = [128, 64]\n",
    "output_size = 10\n",
    "\n",
    "# Build a feed-forward network\n",
    "model = nn.Sequential(nn.Linear(input_size, hidden_sizes[0]),\n",
    "                      nn.ReLU(),\n",
    "                      nn.Linear(hidden_sizes[0], hidden_sizes[1]),\n",
    "                      nn.ReLU(),\n",
    "                      nn.Linear(hidden_sizes[1], output_size),\n",
    "                      nn.Softmax(dim=1))\n",
    "print(model)\n",
    "\n",
    "# Forward pass through the network and display output\n",
    "images, labels = next(iter(trainloader))\n",
    "images.resize_(images.shape[0], 1, 784)\n",
    "ps = model.forward(images[0,:])\n",
    "helper.view_classify(images[0].view(1, 28, 28), ps)"
   ]
  },
  {
   "cell_type": "markdown",
   "metadata": {},
   "source": [
    "Here our model is the same as before: 784 input units, a hidden layer with 128 units, ReLU activation, 64 unit hidden layer, another ReLU, then the output layer with 10 units, and the softmax output.\n",
    "\n",
    "The operations are available by passing in the appropriate index. For example, if you want to get first Linear operation and look at the weights, you'd use `model[0]`."
   ]
  },
  {
   "cell_type": "code",
   "execution_count": 39,
   "metadata": {
    "collapsed": true
   },
   "outputs": [
    {
     "name": "stdout",
     "output_type": "stream",
     "text": [
      "Linear(in_features=784, out_features=128, bias=True)\n"
     ]
    },
    {
     "data": {
      "text/plain": [
       "Parameter containing:\n",
       "tensor([[ 0.0001, -0.0341, -0.0258,  ...,  0.0083,  0.0116,  0.0183],\n",
       "        [ 0.0023,  0.0127, -0.0313,  ..., -0.0340,  0.0052,  0.0077],\n",
       "        [ 0.0205,  0.0154, -0.0172,  ...,  0.0293, -0.0022, -0.0161],\n",
       "        ...,\n",
       "        [ 0.0315, -0.0130, -0.0053,  ..., -0.0269, -0.0266,  0.0118],\n",
       "        [ 0.0093,  0.0099, -0.0284,  ...,  0.0186, -0.0325,  0.0231],\n",
       "        [-0.0201, -0.0338, -0.0129,  ...,  0.0256, -0.0017,  0.0095]],\n",
       "       requires_grad=True)"
      ]
     },
     "execution_count": 39,
     "metadata": {},
     "output_type": "execute_result"
    }
   ],
   "source": [
    "print(model[0])\n",
    "model[0].weight"
   ]
  },
  {
   "cell_type": "markdown",
   "metadata": {},
   "source": [
    "You can also pass in an `OrderedDict` to name the individual layers and operations, instead of using incremental integers. Note that dictionary keys must be unique, so _each operation must have a different name_."
   ]
  },
  {
   "cell_type": "code",
   "execution_count": 40,
   "metadata": {
    "collapsed": true
   },
   "outputs": [
    {
     "data": {
      "text/plain": [
       "Sequential(\n",
       "  (fc1): Linear(in_features=784, out_features=128, bias=True)\n",
       "  (relu1): ReLU()\n",
       "  (fc2): Linear(in_features=128, out_features=64, bias=True)\n",
       "  (relu2): ReLU()\n",
       "  (output): Linear(in_features=64, out_features=10, bias=True)\n",
       "  (softmax): Softmax(dim=1)\n",
       ")"
      ]
     },
     "execution_count": 40,
     "metadata": {},
     "output_type": "execute_result"
    }
   ],
   "source": [
    "from collections import OrderedDict\n",
    "model = nn.Sequential(OrderedDict([\n",
    "                      ('fc1', nn.Linear(input_size, hidden_sizes[0])),\n",
    "                      ('relu1', nn.ReLU()),\n",
    "                      ('fc2', nn.Linear(hidden_sizes[0], hidden_sizes[1])),\n",
    "                      ('relu2', nn.ReLU()),\n",
    "                      ('output', nn.Linear(hidden_sizes[1], output_size)),\n",
    "                      ('softmax', nn.Softmax(dim=1))]))\n",
    "model"
   ]
  },
  {
   "cell_type": "markdown",
   "metadata": {},
   "source": [
    "Now you can access layers either by integer or the name"
   ]
  },
  {
   "cell_type": "code",
   "execution_count": 41,
   "metadata": {
    "collapsed": true
   },
   "outputs": [
    {
     "name": "stdout",
     "output_type": "stream",
     "text": [
      "Linear(in_features=784, out_features=128, bias=True)\n",
      "Linear(in_features=784, out_features=128, bias=True)\n"
     ]
    }
   ],
   "source": [
    "print(model[0])\n",
    "print(model.fc1)"
   ]
  },
  {
   "cell_type": "markdown",
   "metadata": {},
   "source": [
    "In the next notebook, we'll see how we can train a neural network to accuractly predict the numbers appearing in the MNIST images."
   ]
  }
 ],
 "metadata": {
  "kernelspec": {
   "display_name": "Python [default]",
   "language": "python",
   "name": "python3"
  },
  "language_info": {
   "codemirror_mode": {
    "name": "ipython",
    "version": 3
   },
   "file_extension": ".py",
   "mimetype": "text/x-python",
   "name": "python",
   "nbconvert_exporter": "python",
   "pygments_lexer": "ipython3",
   "version": "3.8.5"
  }
 },
 "nbformat": 4,
 "nbformat_minor": 2
}
